{
  "nbformat": 4,
  "nbformat_minor": 0,
  "metadata": {
    "colab": {
      "name": "Graduate_Admission.ipynb",
      "provenance": [],
      "collapsed_sections": [],
      "toc_visible": true
    },
    "kernelspec": {
      "name": "python3",
      "display_name": "Python 3"
    }
  },
  "cells": [
    {
      "cell_type": "markdown",
      "metadata": {
        "id": "bFhDMQENgrdD",
        "colab_type": "text"
      },
      "source": [
        "<a href=\"https://colab.research.google.com/github/hunnurjirao/Machine-Learning-With-TensorFlow/blob/master/Projects/Graduate_Admission.ipynb\" target=\"_parent\"><img src=\"https://colab.research.google.com/assets/colab-badge.svg\" alt=\"Open In Colab\"/></a>"
      ]
    },
    {
      "cell_type": "markdown",
      "metadata": {
        "id": "SS9b5BkAT0Y5",
        "colab_type": "text"
      },
      "source": [
        "# **Graduate Admission**"
      ]
    },
    {
      "cell_type": "markdown",
      "metadata": {
        "id": "zPy02K9RT8_w",
        "colab_type": "text"
      },
      "source": [
        "The goal of the Project is all about the Prediction of Graduate Admissions. This dataset was takn from the Kaggle here https://www.kaggle.com/tags/linear-regression . The dataset contains several parameters which are considered important during the application for Masters Programs.\n",
        "\n",
        "**The parameters included are :** \n",
        "\n",
        "1.GRE Scores ( out of 340 )\n",
        "\n",
        "2.TOEFL Scores ( out of 120 )\n",
        "\n",
        "3.University Rating ( out of 5 )\n",
        "\n",
        "4.Statement of Purpose and Letter of Recommendation Strength ( out of 5 )\n",
        "\n",
        "5.Undergraduate GPA ( out of 10 )\n",
        "\n",
        "6.Research Experience ( either 0 or 1 )\n",
        "\n",
        "7.Chance of Admit ( ranging from 0 to 1 )\n",
        "\n",
        "As discussed in this tutorial http://deeplearningprojectshub.co/index.html/ML03.html, we are using TensorFlow to solve this Linear Regression Problem."
      ]
    },
    {
      "cell_type": "markdown",
      "metadata": {
        "id": "5HrqJPUkZWnF",
        "colab_type": "text"
      },
      "source": [
        "### Importing Necessary modules\n",
        "We will start asusual by importing our necessary modules"
      ]
    },
    {
      "cell_type": "code",
      "metadata": {
        "id": "GW2NtG9O8Bl2",
        "colab_type": "code",
        "colab": {
          "base_uri": "https://localhost:8080/",
          "height": 87
        },
        "outputId": "02f5d806-620b-4118-f7ee-769c0f958277"
      },
      "source": [
        "import numpy as np\n",
        "import pandas as pd\n",
        "import tensorflow.compat.v1 as tf\n",
        "tf.disable_v2_behavior()\n",
        "sess = tf.Session()"
      ],
      "execution_count": 1,
      "outputs": [
        {
          "output_type": "stream",
          "text": [
            "WARNING:tensorflow:From /usr/local/lib/python3.6/dist-packages/tensorflow/python/compat/v2_compat.py:96: disable_resource_variables (from tensorflow.python.ops.variable_scope) is deprecated and will be removed in a future version.\n",
            "Instructions for updating:\n",
            "non-resource variables are not supported in the long term\n"
          ],
          "name": "stdout"
        }
      ]
    },
    {
      "cell_type": "markdown",
      "metadata": {
        "id": "T4NBeMWkbN-P",
        "colab_type": "text"
      },
      "source": [
        "### Prepare the data"
      ]
    },
    {
      "cell_type": "markdown",
      "metadata": {
        "id": "WlTRDLWUZf1H",
        "colab_type": "text"
      },
      "source": [
        "Load the datasets, that contains columns [Serial No.,\tGRE Score,\tTOEFL Score,\tUniversity Rating,\tSOP,\tLOR,\tCGPA,\tResearch,\tChance of Admit\n",
        " ]\n"
      ]
    },
    {
      "cell_type": "markdown",
      "metadata": {
        "id": "4-Th2Pm4Z1fs",
        "colab_type": "text"
      },
      "source": [
        "Here every feature is important fot this problem except the Serial No. which dosen't affect the Chance of Admit of the Student. So we will exclude that from our dataset."
      ]
    },
    {
      "cell_type": "code",
      "metadata": {
        "id": "DbCE3GpzihuL",
        "colab_type": "code",
        "colab": {
          "base_uri": "https://localhost:8080/",
          "height": 195
        },
        "outputId": "fed7f152-9d88-4a3c-d9b5-cd6b69bf3543"
      },
      "source": [
        "df = pd.read_csv(\"Graduate_Admission.csv\")\n",
        "df.head()"
      ],
      "execution_count": 2,
      "outputs": [
        {
          "output_type": "execute_result",
          "data": {
            "text/html": [
              "<div>\n",
              "<style scoped>\n",
              "    .dataframe tbody tr th:only-of-type {\n",
              "        vertical-align: middle;\n",
              "    }\n",
              "\n",
              "    .dataframe tbody tr th {\n",
              "        vertical-align: top;\n",
              "    }\n",
              "\n",
              "    .dataframe thead th {\n",
              "        text-align: right;\n",
              "    }\n",
              "</style>\n",
              "<table border=\"1\" class=\"dataframe\">\n",
              "  <thead>\n",
              "    <tr style=\"text-align: right;\">\n",
              "      <th></th>\n",
              "      <th>Serial No.</th>\n",
              "      <th>GRE Score</th>\n",
              "      <th>TOEFL Score</th>\n",
              "      <th>University Rating</th>\n",
              "      <th>SOP</th>\n",
              "      <th>LOR</th>\n",
              "      <th>CGPA</th>\n",
              "      <th>Research</th>\n",
              "      <th>Chance of Admit</th>\n",
              "    </tr>\n",
              "  </thead>\n",
              "  <tbody>\n",
              "    <tr>\n",
              "      <th>0</th>\n",
              "      <td>1</td>\n",
              "      <td>337</td>\n",
              "      <td>118</td>\n",
              "      <td>4</td>\n",
              "      <td>4.5</td>\n",
              "      <td>4.5</td>\n",
              "      <td>9.65</td>\n",
              "      <td>1</td>\n",
              "      <td>0.92</td>\n",
              "    </tr>\n",
              "    <tr>\n",
              "      <th>1</th>\n",
              "      <td>2</td>\n",
              "      <td>324</td>\n",
              "      <td>107</td>\n",
              "      <td>4</td>\n",
              "      <td>4.0</td>\n",
              "      <td>4.5</td>\n",
              "      <td>8.87</td>\n",
              "      <td>1</td>\n",
              "      <td>0.76</td>\n",
              "    </tr>\n",
              "    <tr>\n",
              "      <th>2</th>\n",
              "      <td>3</td>\n",
              "      <td>316</td>\n",
              "      <td>104</td>\n",
              "      <td>3</td>\n",
              "      <td>3.0</td>\n",
              "      <td>3.5</td>\n",
              "      <td>8.00</td>\n",
              "      <td>1</td>\n",
              "      <td>0.72</td>\n",
              "    </tr>\n",
              "    <tr>\n",
              "      <th>3</th>\n",
              "      <td>4</td>\n",
              "      <td>322</td>\n",
              "      <td>110</td>\n",
              "      <td>3</td>\n",
              "      <td>3.5</td>\n",
              "      <td>2.5</td>\n",
              "      <td>8.67</td>\n",
              "      <td>1</td>\n",
              "      <td>0.80</td>\n",
              "    </tr>\n",
              "    <tr>\n",
              "      <th>4</th>\n",
              "      <td>5</td>\n",
              "      <td>314</td>\n",
              "      <td>103</td>\n",
              "      <td>2</td>\n",
              "      <td>2.0</td>\n",
              "      <td>3.0</td>\n",
              "      <td>8.21</td>\n",
              "      <td>0</td>\n",
              "      <td>0.65</td>\n",
              "    </tr>\n",
              "  </tbody>\n",
              "</table>\n",
              "</div>"
            ],
            "text/plain": [
              "   Serial No.  GRE Score  TOEFL Score  ...  CGPA  Research  Chance of Admit \n",
              "0           1        337          118  ...  9.65         1              0.92\n",
              "1           2        324          107  ...  8.87         1              0.76\n",
              "2           3        316          104  ...  8.00         1              0.72\n",
              "3           4        322          110  ...  8.67         1              0.80\n",
              "4           5        314          103  ...  8.21         0              0.65\n",
              "\n",
              "[5 rows x 9 columns]"
            ]
          },
          "metadata": {
            "tags": []
          },
          "execution_count": 2
        }
      ]
    },
    {
      "cell_type": "markdown",
      "metadata": {
        "id": "HhBJhFdDaPiq",
        "colab_type": "text"
      },
      "source": [
        "### Data Preprocessing\n",
        "Data Preprocessing is very much important while going to train our model. Here we have conformed that there are no null values in our dataframe. So we are good to go to train our model. If there are any null values, make sure that you fill that null values with mean or median of that specific data column. "
      ]
    },
    {
      "cell_type": "code",
      "metadata": {
        "id": "7ytiae8ci6lZ",
        "colab_type": "code",
        "colab": {
          "base_uri": "https://localhost:8080/",
          "height": 185
        },
        "outputId": "b5b5fb18-1aeb-440d-a0b9-c26be5d99492"
      },
      "source": [
        "df.isnull().any()"
      ],
      "execution_count": 3,
      "outputs": [
        {
          "output_type": "execute_result",
          "data": {
            "text/plain": [
              "Serial No.           False\n",
              "GRE Score            False\n",
              "TOEFL Score          False\n",
              "University Rating    False\n",
              "SOP                  False\n",
              "LOR                  False\n",
              "CGPA                 False\n",
              "Research             False\n",
              "Chance of Admit      False\n",
              "dtype: bool"
            ]
          },
          "metadata": {
            "tags": []
          },
          "execution_count": 3
        }
      ]
    },
    {
      "cell_type": "code",
      "metadata": {
        "id": "XkzCc-LhkQH1",
        "colab_type": "code",
        "colab": {}
      },
      "source": [
        "X = df.iloc[:,1:8]\n",
        "\n",
        "y = df[\"Chance of Admit \"]"
      ],
      "execution_count": 4,
      "outputs": []
    },
    {
      "cell_type": "code",
      "metadata": {
        "id": "MzDMSAEBknD1",
        "colab_type": "code",
        "colab": {}
      },
      "source": [
        "X = np.asarray(X)\n",
        "y = np.asarray(y)"
      ],
      "execution_count": 5,
      "outputs": []
    },
    {
      "cell_type": "code",
      "metadata": {
        "id": "7-dK8aEvlQTj",
        "colab_type": "code",
        "colab": {
          "base_uri": "https://localhost:8080/",
          "height": 34
        },
        "outputId": "0eaa9738-5bd4-471d-b1da-c9c9eaa88e39"
      },
      "source": [
        "X.shape"
      ],
      "execution_count": 6,
      "outputs": [
        {
          "output_type": "execute_result",
          "data": {
            "text/plain": [
              "(400, 7)"
            ]
          },
          "metadata": {
            "tags": []
          },
          "execution_count": 6
        }
      ]
    },
    {
      "cell_type": "code",
      "metadata": {
        "id": "ST_CYT2mlRNz",
        "colab_type": "code",
        "colab": {
          "base_uri": "https://localhost:8080/",
          "height": 34
        },
        "outputId": "95b43a4c-1480-42e7-8de8-f320d5aea911"
      },
      "source": [
        "y = y.reshape(400,1)\n",
        "y.shape"
      ],
      "execution_count": 7,
      "outputs": [
        {
          "output_type": "execute_result",
          "data": {
            "text/plain": [
              "(400, 1)"
            ]
          },
          "metadata": {
            "tags": []
          },
          "execution_count": 7
        }
      ]
    },
    {
      "cell_type": "code",
      "metadata": {
        "id": "l6Nk06qQvdBU",
        "colab_type": "code",
        "colab": {}
      },
      "source": [
        "from sklearn.model_selection import train_test_split\n",
        "\n",
        "x_train, x_test, y_train, y_test =train_test_split(X,y,test_size = 0.33)"
      ],
      "execution_count": 8,
      "outputs": []
    },
    {
      "cell_type": "markdown",
      "metadata": {
        "id": "SL7iMf3XbW1c",
        "colab_type": "text"
      },
      "source": [
        "Now we will use the TensorFlow operations that we have learned in here  http://deeplearningprojectshub.co/index.html/ML03.html. Here we have created placeholders and variables for further use. We have also done linear operation i.e. Y = m * X + c. Note that here X is the matrix of features  and Y is the matrix of target. Our goal is to find the matrix m that contains the slope values and also to find the y-intercept c."
      ]
    },
    {
      "cell_type": "code",
      "metadata": {
        "id": "EzKncB9flSV5",
        "colab_type": "code",
        "colab": {}
      },
      "source": [
        "x_data = tf.placeholder(shape = [None,7], dtype = tf.float32)\n",
        "y_target = tf.placeholder(shape = [None,1], dtype = tf.float32)\n",
        "\n",
        "A = tf.Variable(tf.random_normal([7,1]))\n",
        "b = tf.Variable(tf.random_normal([1,1]))"
      ],
      "execution_count": 9,
      "outputs": []
    },
    {
      "cell_type": "code",
      "metadata": {
        "id": "PxwC0WYBmlMa",
        "colab_type": "code",
        "colab": {}
      },
      "source": [
        "model_output = tf.add(tf.matmul(x_data,A),b)"
      ],
      "execution_count": 10,
      "outputs": []
    },
    {
      "cell_type": "code",
      "metadata": {
        "id": "XGs1s8QithYb",
        "colab_type": "code",
        "colab": {}
      },
      "source": [
        "# elastic_param1 = tf.constant(1.)\n",
        "# elastic_param2 = tf.constant(1.)\n",
        "# l1_a_loss = tf.reduce_mean(tf.abs(A))\n",
        "# l2_a_loss = tf.reduce_mean(tf.square(A))\n",
        "# e1_term = tf.multiply(elastic_param1, l1_a_loss)\n",
        "# e2_term = tf.multiply(elastic_param2, l2_a_loss)\n",
        "# loss = tf.expand_dims(tf.add(tf.add(tf.reduce_mean(tf.square(y_target - model_output)), e1_term), e2_term), 0)\n"
      ],
      "execution_count": 11,
      "outputs": []
    },
    {
      "cell_type": "markdown",
      "metadata": {
        "id": "1Idgqx05cg0k",
        "colab_type": "text"
      },
      "source": [
        "### Loss and Optimizers\n",
        "\n",
        "Here we used L1 loss which is absolute difference between the predicted and actual values and similarly we used Gradient Descent Optiizer with learning rate 0.00001"
      ]
    },
    {
      "cell_type": "code",
      "metadata": {
        "id": "NfP0ZqTomxx4",
        "colab_type": "code",
        "colab": {}
      },
      "source": [
        "loss = tf.reduce_mean(tf.abs(model_output - y_target))\n",
        "\n",
        "my_optim = tf.train.GradientDescentOptimizer(learning_rate = 0.00001)\n",
        "optimizer = my_optim.minimize(loss)"
      ],
      "execution_count": 29,
      "outputs": []
    },
    {
      "cell_type": "code",
      "metadata": {
        "id": "p3KDIRnWnRE8",
        "colab_type": "code",
        "colab": {}
      },
      "source": [
        "init = tf.global_variables_initializer()\n",
        "sess.run(init)"
      ],
      "execution_count": 30,
      "outputs": []
    },
    {
      "cell_type": "markdown",
      "metadata": {
        "id": "nH0Jqe3Jc7Zn",
        "colab_type": "text"
      },
      "source": [
        "### Training loop\n",
        "\n",
        "Now we will start our training loop. loss_vals stores the loss value at each iteration and here we used batch_size = 64.\n"
      ]
    },
    {
      "cell_type": "markdown",
      "metadata": {
        "id": "bPqUoeiGdM3h",
        "colab_type": "text"
      },
      "source": [
        "Instead of training all the examples at a time, here we are training 64 examples at a time."
      ]
    },
    {
      "cell_type": "code",
      "metadata": {
        "id": "DRYULAg1ndq0",
        "colab_type": "code",
        "colab": {
          "base_uri": "https://localhost:8080/",
          "height": 302
        },
        "outputId": "f50250f7-0da3-4292-be2d-18d603fa7629"
      },
      "source": [
        "loss_vals = []\n",
        "batch_size = 64\n",
        "for i in range(500):\n",
        "  rand_index = np.random.choice(len(x_train), size=batch_size)\n",
        "\n",
        "  rand_X = x_train[rand_index]\n",
        "  rand_y = (y_train[rand_index])\n",
        "  rand_y = rand_y.reshape(batch_size,1)\n",
        "  sess.run(optimizer, feed_dict = {x_data: rand_X, y_target: rand_y})\n",
        "  temp_loss = sess.run(loss, feed_dict = {x_data: rand_X, y_target: rand_y})\n",
        "\n",
        "  loss_vals.append(temp_loss)\n",
        "  if (i+1)%50==0:\n",
        "    print('Step: ' + str(i+1) + '  loss: ' + str(temp_loss) )\n",
        "\n",
        "print(' A = ' + str(sess.run(A)) + ' b = ' + str(sess.run(b)) + '  Loss: ' + str(temp_loss))"
      ],
      "execution_count": 31,
      "outputs": [
        {
          "output_type": "stream",
          "text": [
            "Step: 50  loss: 395.74857\n",
            "Step: 100  loss: 338.2331\n",
            "Step: 150  loss: 284.2125\n",
            "Step: 200  loss: 227.84654\n",
            "Step: 250  loss: 171.99542\n",
            "Step: 300  loss: 115.91063\n",
            "Step: 350  loss: 60.667587\n",
            "Step: 400  loss: 4.7648053\n",
            "Step: 450  loss: 1.1509173\n",
            "Step: 500  loss: 1.1963086\n",
            " A = [[-0.01952957]\n",
            " [ 0.09871853]\n",
            " [-0.2572442 ]\n",
            " [-0.37538677]\n",
            " [-1.3363227 ]\n",
            " [ 0.1879764 ]\n",
            " [ 1.1095754 ]] b = [[0.80133146]]  Loss: 1.1963086\n"
          ],
          "name": "stdout"
        }
      ]
    },
    {
      "cell_type": "markdown",
      "metadata": {
        "id": "RrtZga0mddrN",
        "colab_type": "text"
      },
      "source": [
        "OOh! we got loss = 1.1 approx. Not Bad!\n",
        "\n",
        "Whatever, now let us plot the loss graph w.r.t number of iterations"
      ]
    },
    {
      "cell_type": "code",
      "metadata": {
        "id": "ZIWRbQQLqB-G",
        "colab_type": "code",
        "colab": {
          "base_uri": "https://localhost:8080/",
          "height": 295
        },
        "outputId": "28594721-ebcb-4946-b41d-93ddc0d81e33"
      },
      "source": [
        "import matplotlib.pyplot as plt\n",
        "\n",
        "plt.plot(loss_vals, 'k-')\n",
        "plt.title('Loss per Epoch')\n",
        "plt.xlabel('Epochs')\n",
        "plt.ylabel('Loss')\n",
        "plt.show()"
      ],
      "execution_count": 32,
      "outputs": [
        {
          "output_type": "display_data",
          "data": {
            "image/png": "[encoded data removed]",
            "text/plain": [
              "<Figure size 432x288 with 1 Axes>"
            ]
          },
          "metadata": {
            "tags": [],
            "needs_background": "light"
          }
        }
      ]
    },
    {
      "cell_type": "markdown",
      "metadata": {
        "id": "Mi3NxDNFdrUc",
        "colab_type": "text"
      },
      "source": [
        "### Predictions"
      ]
    },
    {
      "cell_type": "markdown",
      "metadata": {
        "id": "7EWpOQ4Bdv7Y",
        "colab_type": "text"
      },
      "source": [
        "Here, we used sigmoid function, because out output varies from 0 to 1."
      ]
    },
    {
      "cell_type": "markdown",
      "metadata": {
        "id": "4wN4awaNeBHT",
        "colab_type": "text"
      },
      "source": [
        "Finally the model predicted as 91 members are admitted for Graduation where really 122 members are admitted for Graduation. Similarly model predicted as 41 members are not admitted for Graduation where really 10 members are not admitted for Graduation"
      ]
    },
    {
      "cell_type": "code",
      "metadata": {
        "id": "tvfcSGvAyQq4",
        "colab_type": "code",
        "colab": {}
      },
      "source": [
        "a = sess.run(tf.nn.sigmoid(model_output),feed_dict={x_data: x_test})\n",
        "\n",
        "ypred_pos=0\n",
        "ypred_neg=0\n",
        "\n",
        "for i in range(len(a)):\n",
        "  if a[i] > 0.5:\n",
        "    ypred_pos = ypred_pos + 1\n",
        "  else:\n",
        "    ypred_neg = ypred_neg + 1\n"
      ],
      "execution_count": 33,
      "outputs": []
    },
    {
      "cell_type": "code",
      "metadata": {
        "id": "RNmmD8ATWDAY",
        "colab_type": "code",
        "colab": {
          "base_uri": "https://localhost:8080/",
          "height": 50
        },
        "outputId": "3e76d8a5-74e1-4617-b803-5c3d5db1c110"
      },
      "source": [
        "print(\"Model predicted as admitted for Graduation: \" + str(ypred_pos))\n",
        "print(\"Model predicted as not admitted for Graduation: \" + str(ypred_neg))"
      ],
      "execution_count": 34,
      "outputs": [
        {
          "output_type": "stream",
          "text": [
            "Model predicted as admitted for Graduation: 91\n",
            "Model predicted as not admitted for Graduation: 41\n"
          ],
          "name": "stdout"
        }
      ]
    },
    {
      "cell_type": "code",
      "metadata": {
        "id": "hiXatKnbUF9N",
        "colab_type": "code",
        "colab": {}
      },
      "source": [
        "ytest_pos=0\n",
        "ytest_neg=0\n",
        "\n",
        "for i in range(len(y_test)):\n",
        "  if y_test[i] > 0.5:\n",
        "    ytest_pos = ytest_pos + 1\n",
        "  else:\n",
        "    ytest_neg = ytest_neg + 1\n"
      ],
      "execution_count": 35,
      "outputs": []
    },
    {
      "cell_type": "code",
      "metadata": {
        "id": "VnAotB5wV-b8",
        "colab_type": "code",
        "colab": {
          "base_uri": "https://localhost:8080/",
          "height": 50
        },
        "outputId": "0e5c1392-818c-4463-ae7d-9f25f9ad56e9"
      },
      "source": [
        "print(\"Actually admitted for Graduation: \" + str(ytest_pos))\n",
        "print(\"Actually not admitted for Graduation: \" + str(ytest_neg))"
      ],
      "execution_count": 36,
      "outputs": [
        {
          "output_type": "stream",
          "text": [
            "Actually admitted for Graduation: 122\n",
            "Actually not admitted for Graduation: 10\n"
          ],
          "name": "stdout"
        }
      ]
    }
  ]
}