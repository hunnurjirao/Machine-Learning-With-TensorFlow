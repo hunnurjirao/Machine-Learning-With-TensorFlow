{
  "nbformat": 4,
  "nbformat_minor": 0,
  "metadata": {
    "colab": {
      "name": "Linear_Regression(Part-1).ipynb",
      "provenance": [],
      "collapsed_sections": []
    },
    "kernelspec": {
      "name": "python3",
      "display_name": "Python 3"
    }
  },
  "cells": [
    {
      "cell_type": "markdown",
      "metadata": {
        "id": "htSeDegc8yj2",
        "colab_type": "text"
      },
      "source": [
        "<a href=\"https://colab.research.google.com/github/hunnurjirao/Machine Learning with TensorFlow/blob/master/Linear_Regression(Part-1).ipynb\" target=\"_parent\"><img src=\"https://colab.research.google.com/assets/colab-badge.svg\" alt=\"Open In Colab\"/></a>"
      ]
    },
    {
      "cell_type": "markdown",
      "metadata": {
        "id": "y727KyBnqsEw",
        "colab_type": "text"
      },
      "source": [
        "# **Using Matrix Inverse Method**"
      ]
    },
    {
      "cell_type": "markdown",
      "metadata": {
        "id": "QG7-I4Ki6ItB",
        "colab_type": "text"
      },
      "source": [
        "### Import necessary modules"
      ]
    },
    {
      "cell_type": "code",
      "metadata": {
        "id": "1pPOcM6Hxfwa",
        "colab_type": "code",
        "colab": {
          "base_uri": "https://localhost:8080/",
          "height": 87
        },
        "outputId": "6b599af3-b43b-49eb-d937-3f3af36be8b2"
      },
      "source": [
        "import numpy as np\n",
        "import matplotlib.pyplot as plt\n",
        "import tensorflow.compat.v1 as tf\n",
        "tf.disable_v2_behavior()\n",
        "\n",
        "tf.executing_eagerly()\n",
        "\n",
        "sess = tf.Session() # create the session"
      ],
      "execution_count": 1,
      "outputs": [
        {
          "output_type": "stream",
          "text": [
            "WARNING:tensorflow:From /usr/local/lib/python3.6/dist-packages/tensorflow/python/compat/v2_compat.py:96: disable_resource_variables (from tensorflow.python.ops.variable_scope) is deprecated and will be removed in a future version.\n",
            "Instructions for updating:\n",
            "non-resource variables are not supported in the long term\n"
          ],
          "name": "stdout"
        }
      ]
    },
    {
      "cell_type": "markdown",
      "metadata": {
        "id": "NNEWmUPu6NYp",
        "colab_type": "text"
      },
      "source": [
        "### Preparing the data"
      ]
    },
    {
      "cell_type": "code",
      "metadata": {
        "id": "8yxVrfjskE14",
        "colab_type": "code",
        "colab": {
          "base_uri": "https://localhost:8080/",
          "height": 34
        },
        "outputId": "0a96635a-b5d7-42bc-c287-4d824d9bc35e"
      },
      "source": [
        "x_vals=[]\n",
        "y_vals=[]\n",
        "for i in range(1,101):\n",
        "  x_vals.append(i)\n",
        "  y_vals.append(2*i +1)\n",
        "\n",
        "x_vals = np.array(x_vals)\n",
        "y_vals =x_vals + np.random.normal(0,10,100)\n",
        "print(x_vals.shape, y_vals.shape)"
      ],
      "execution_count": 2,
      "outputs": [
        {
          "output_type": "stream",
          "text": [
            "(100,) (100,)\n"
          ],
          "name": "stdout"
        }
      ]
    },
    {
      "cell_type": "code",
      "metadata": {
        "id": "aQgccceGrWzF",
        "colab_type": "code",
        "colab": {}
      },
      "source": [
        "x_vals_column = np.transpose(np.matrix(x_vals))\n",
        "ones_column = np.transpose(np.matrix(np.repeat(1, 100)))\n",
        "\n",
        "A = np.column_stack((x_vals_column, ones_column))\n",
        "b = np.transpose(np.matrix(y_vals))"
      ],
      "execution_count": 3,
      "outputs": []
    },
    {
      "cell_type": "markdown",
      "metadata": {
        "id": "26BP6uA86XBx",
        "colab_type": "text"
      },
      "source": [
        "### Converting into tensors"
      ]
    },
    {
      "cell_type": "code",
      "metadata": {
        "id": "M8OemEykrY2J",
        "colab_type": "code",
        "colab": {}
      },
      "source": [
        "A_tensor = tf.constant(A,dtype = tf.float32)\n",
        "b_tensor = tf.constant(b, dtype = tf.float32)"
      ],
      "execution_count": 4,
      "outputs": []
    },
    {
      "cell_type": "markdown",
      "metadata": {
        "id": "YcDZNR1S6huT",
        "colab_type": "text"
      },
      "source": [
        "### Solving via Matrix Inverse Method"
      ]
    },
    {
      "cell_type": "code",
      "metadata": {
        "id": "z29lKqYLreA1",
        "colab_type": "code",
        "colab": {}
      },
      "source": [
        "tA_A = tf.matmul(tf.transpose(A_tensor), A_tensor)\n",
        "\n",
        "tA_A_inv = tf.matrix_inverse(tA_A)\n",
        "\n",
        "product = tf.matmul(tA_A_inv, tf.transpose(A_tensor))\n",
        "\n",
        "solution = tf.matmul(product, b_tensor)\n",
        "\n",
        "solution_eval = sess.run(solution)"
      ],
      "execution_count": 5,
      "outputs": []
    },
    {
      "cell_type": "code",
      "metadata": {
        "id": "JJfhnw6QrkMb",
        "colab_type": "code",
        "colab": {
          "base_uri": "https://localhost:8080/",
          "height": 50
        },
        "outputId": "9333bf52-01f8-4ab6-ee95-0333a5b40d01"
      },
      "source": [
        "slope = solution_eval[0][0]\n",
        "y_intercept = solution_eval[1][0]\n",
        "\n",
        "print('slope: ' + str(slope))\n",
        "print('y_intercept: ' + str(y_intercept))"
      ],
      "execution_count": 6,
      "outputs": [
        {
          "output_type": "stream",
          "text": [
            "slope: 1.0104742\n",
            "y_intercept: -1.0155448\n"
          ],
          "name": "stdout"
        }
      ]
    },
    {
      "cell_type": "markdown",
      "metadata": {
        "id": "xoXLU8Ei6rWA",
        "colab_type": "text"
      },
      "source": [
        "### Plotting the best fit line"
      ]
    },
    {
      "cell_type": "code",
      "metadata": {
        "id": "bJ7CCTQRr9Ca",
        "colab_type": "code",
        "colab": {}
      },
      "source": [
        "best_fit = []\n",
        "for i in x_vals:\n",
        "  best_fit.append(slope*i+y_intercept)"
      ],
      "execution_count": 7,
      "outputs": []
    },
    {
      "cell_type": "code",
      "metadata": {
        "id": "AL4CwfIdsElE",
        "colab_type": "code",
        "colab": {
          "base_uri": "https://localhost:8080/",
          "height": 265
        },
        "outputId": "56b73c72-17e2-4f6e-bd83-023b7d64eec4"
      },
      "source": [
        "plt.scatter(x_vals, y_vals, label='Data')\n",
        "plt.plot(x_vals, best_fit, 'r-', label='Best fit line',linewidth=3)\n",
        "plt.legend(loc='upper left')\n",
        "plt.show()"
      ],
      "execution_count": 8,
      "outputs": [
        {
          "output_type": "display_data",
          "data": {
            "image/png": "[encoded data removed]",
            "text/plain": [
              "<Figure size 432x288 with 1 Axes>"
            ]
          },
          "metadata": {
            "tags": [],
            "needs_background": "light"
          }
        }
      ]
    },
    {
      "cell_type": "markdown",
      "metadata": {
        "id": "Zokr2c8JsRyj",
        "colab_type": "text"
      },
      "source": [
        "# **Implementing a Decomposition Method**"
      ]
    },
    {
      "cell_type": "markdown",
      "metadata": {
        "id": "bGx-QAz56ybn",
        "colab_type": "text"
      },
      "source": [
        "### We have already imported the necessary modules and prepared the data above"
      ]
    },
    {
      "cell_type": "code",
      "metadata": {
        "id": "gyWLzr8VsIC5",
        "colab_type": "code",
        "colab": {}
      },
      "source": [
        "# x_vals=[]\n",
        "# y_vals=[]\n",
        "# for i in range(1,101):\n",
        "#   x_vals.append(i)\n",
        "#   y_vals.append(2*i +1)\n",
        "\n",
        "# x_vals = np.array(x_vals)\n",
        "# y_vals =x_vals + np.random.normal(0,10,100)\n",
        "# print(x_vals.shape, y_vals.shape)"
      ],
      "execution_count": 9,
      "outputs": []
    },
    {
      "cell_type": "code",
      "metadata": {
        "id": "rLgrTWdztkeg",
        "colab_type": "code",
        "colab": {}
      },
      "source": [
        "x_vals_column = np.transpose(np.matrix(x_vals))\n",
        "ones_column = np.transpose(np.matrix(np.repeat(1, 100)))\n",
        "\n",
        "A = np.column_stack((x_vals_column, ones_column))\n",
        "b = np.transpose(np.matrix(y_vals))"
      ],
      "execution_count": 10,
      "outputs": []
    },
    {
      "cell_type": "code",
      "metadata": {
        "id": "8Yk2zflFtupn",
        "colab_type": "code",
        "colab": {}
      },
      "source": [
        "A_tensor = tf.constant(A,dtype = tf.float64)\n",
        "b_tensor = tf.constant(b, dtype = tf.float64)"
      ],
      "execution_count": 11,
      "outputs": []
    },
    {
      "cell_type": "code",
      "metadata": {
        "id": "XPgO99NbtFtA",
        "colab_type": "code",
        "colab": {}
      },
      "source": [
        "tA_A = tf.matmul(tf.transpose(A_tensor), A_tensor)\n",
        "\n",
        "L = tf.cholesky(tA_A)\n",
        "\n",
        "tA_b = tf.matmul(tf.transpose(A_tensor), b)\n",
        "\n",
        "sol1 = tf.matrix_solve(L, tA_b)\n",
        "\n",
        "sol2 = tf.matrix_solve(tf.transpose(L), sol1)"
      ],
      "execution_count": 12,
      "outputs": []
    },
    {
      "cell_type": "code",
      "metadata": {
        "id": "3QL3y97KtLoO",
        "colab_type": "code",
        "colab": {
          "base_uri": "https://localhost:8080/",
          "height": 50
        },
        "outputId": "f4d2afa1-b749-4d9c-f0ed-dd7243aee593"
      },
      "source": [
        "solution_eval = sess.run(sol2)\n",
        "\n",
        "slope = solution_eval[0][0]\n",
        "\n",
        "y_intercept = solution_eval[1][0]\n",
        "\n",
        "print('slope: ' + str(slope))\n",
        "print('y_intercept: ' + str(y_intercept))"
      ],
      "execution_count": 13,
      "outputs": [
        {
          "output_type": "stream",
          "text": [
            "slope: 1.0104739375750604\n",
            "y_intercept: -1.015555288249142\n"
          ],
          "name": "stdout"
        }
      ]
    },
    {
      "cell_type": "code",
      "metadata": {
        "id": "AP1MZBFhuH3r",
        "colab_type": "code",
        "colab": {}
      },
      "source": [
        "best_fit = []\n",
        "for i in x_vals:\n",
        "  best_fit.append(slope*i+y_intercept)"
      ],
      "execution_count": 14,
      "outputs": []
    },
    {
      "cell_type": "code",
      "metadata": {
        "id": "iEtrIdoduL_D",
        "colab_type": "code",
        "colab": {
          "base_uri": "https://localhost:8080/",
          "height": 265
        },
        "outputId": "e1c4b058-5860-4282-f5ba-23a49b0319d8"
      },
      "source": [
        "plt.scatter(x_vals, y_vals, label='Data')\n",
        "plt.plot(x_vals, best_fit, 'r-', label='Best fit line', linewidth=3)\n",
        "plt.legend(loc='upper left')\n",
        "plt.show()"
      ],
      "execution_count": 15,
      "outputs": [
        {
          "output_type": "display_data",
          "data": {
            "image/png": "[encoded data removed]",
            "text/plain": [
              "<Figure size 432x288 with 1 Axes>"
            ]
          },
          "metadata": {
            "tags": [],
            "needs_background": "light"
          }
        }
      ]
    },
    {
      "cell_type": "markdown",
      "metadata": {
        "id": "MPE_rtgruc4t",
        "colab_type": "text"
      },
      "source": [
        "# **Learning the TensorFlow way of Linear Regression**"
      ]
    },
    {
      "cell_type": "markdown",
      "metadata": {
        "id": "ZBjSiHr87Kge",
        "colab_type": "text"
      },
      "source": [
        "### Import the necessary modules"
      ]
    },
    {
      "cell_type": "code",
      "metadata": {
        "id": "fgdeYDHeuQgj",
        "colab_type": "code",
        "colab": {}
      },
      "source": [
        "from sklearn import datasets\n",
        "from tensorflow.python.framework import ops\n",
        "ops.reset_default_graph()               # here we are reseting the graph\n",
        "sess = tf.Session()\n",
        "\n",
        "iris = datasets.load_iris()"
      ],
      "execution_count": 16,
      "outputs": []
    },
    {
      "cell_type": "markdown",
      "metadata": {
        "id": "iUnltOtW7O0x",
        "colab_type": "text"
      },
      "source": [
        "### Load the data"
      ]
    },
    {
      "cell_type": "code",
      "metadata": {
        "id": "I6j9uLCfutfN",
        "colab_type": "code",
        "colab": {}
      },
      "source": [
        "x_vals = np.array([x[3] for x in iris.data])\n",
        "y_vals = np.array([y[0] for y in iris.data])"
      ],
      "execution_count": 17,
      "outputs": []
    },
    {
      "cell_type": "markdown",
      "metadata": {
        "id": "7d1zxPHf7SHT",
        "colab_type": "text"
      },
      "source": [
        "### Create variables and placeholders"
      ]
    },
    {
      "cell_type": "code",
      "metadata": {
        "id": "Pj_DMqLuuwxt",
        "colab_type": "code",
        "colab": {}
      },
      "source": [
        "learning_rate = 0.05\n",
        "batch_size = 25\n",
        "\n",
        "x_data = tf.placeholder(shape=[None, 1], dtype=tf.float32)\n",
        "y_target = tf.placeholder(shape=[None, 1], dtype=tf.float32)\n",
        "\n",
        "A = tf.Variable(tf.random_normal(shape=[1,1]))\n",
        "b = tf.Variable(tf.random_normal(shape=[1,1]))"
      ],
      "execution_count": 18,
      "outputs": []
    },
    {
      "cell_type": "code",
      "metadata": {
        "id": "KfEytoS2u5on",
        "colab_type": "code",
        "colab": {}
      },
      "source": [
        "model_output = tf.add(tf.matmul(x_data, A), b)"
      ],
      "execution_count": 19,
      "outputs": []
    },
    {
      "cell_type": "markdown",
      "metadata": {
        "id": "tUg1EdIZ7WoX",
        "colab_type": "text"
      },
      "source": [
        "### Loss(L2) and optimizer"
      ]
    },
    {
      "cell_type": "code",
      "metadata": {
        "id": "CFZEAgq1u_Lv",
        "colab_type": "code",
        "colab": {}
      },
      "source": [
        "loss = tf.reduce_mean(tf.square(y_target - model_output))\n",
        "\n",
        "my_opt = tf.train.GradientDescentOptimizer(learning_rate)\n",
        "train_step = my_opt.minimize(loss)"
      ],
      "execution_count": 20,
      "outputs": []
    },
    {
      "cell_type": "code",
      "metadata": {
        "id": "P-C5-vC3vPhn",
        "colab_type": "code",
        "colab": {}
      },
      "source": [
        "init = tf.global_variables_initializer()\n",
        "sess.run(init)"
      ],
      "execution_count": 21,
      "outputs": []
    },
    {
      "cell_type": "markdown",
      "metadata": {
        "id": "znjhsea57iwE",
        "colab_type": "text"
      },
      "source": [
        "### Training loop"
      ]
    },
    {
      "cell_type": "code",
      "metadata": {
        "id": "HTgj9FS1vQdd",
        "colab_type": "code",
        "colab": {
          "base_uri": "https://localhost:8080/",
          "height": 84
        },
        "outputId": "598cc83d-e7c5-4412-a3d1-6b93dd73ca58"
      },
      "source": [
        "loss_vec = []\n",
        "for i in range(100):\n",
        "  rand_index = np.random.choice(len(x_vals), size=batch_size)\n",
        "\n",
        "  rand_x = np.transpose([x_vals[rand_index]])\n",
        "  rand_y = np.transpose([y_vals[rand_index]])\n",
        "  \n",
        "  sess.run(train_step, feed_dict={x_data: rand_x, y_target:rand_y})\n",
        "\n",
        "  temp_loss = sess.run(loss, feed_dict={x_data: rand_x, y_target: rand_y})\n",
        "  \n",
        "  loss_vec.append(temp_loss)\n",
        "  \n",
        "  if (i+1)%25 == 0:\n",
        "    print('Step:  '+ str(i+1) + ' A = ' + str(sess.run(A)[0][0]) + '  b = ' + str(sess.run(b)[0][0]) + '  Loss:  ' + str(temp_loss))"
      ],
      "execution_count": 22,
      "outputs": [
        {
          "output_type": "stream",
          "text": [
            "Step:  25 A = 2.0691006  b = 2.9827874  Loss:  1.7700093\n",
            "Step:  50 A = 1.6104296  b = 3.7358735  Loss:  0.63368136\n",
            "Step:  75 A = 1.2490538  b = 4.1448092  Loss:  0.44908035\n",
            "Step:  100 A = 1.1812904  b = 4.4141297  Loss:  0.18682148\n"
          ],
          "name": "stdout"
        }
      ]
    },
    {
      "cell_type": "markdown",
      "metadata": {
        "id": "iWHhYj_d7l68",
        "colab_type": "text"
      },
      "source": [
        "### Plotting the best fit line"
      ]
    },
    {
      "cell_type": "code",
      "metadata": {
        "id": "otI2Q6DhvkkD",
        "colab_type": "code",
        "colab": {}
      },
      "source": [
        "slope = sess.run(A)[0]\n",
        "y_intercept = sess.run(b)[0]\n",
        "best_fit = []\n",
        "for i in x_vals:\n",
        "  best_fit.append(slope*i+y_intercept)"
      ],
      "execution_count": 23,
      "outputs": []
    },
    {
      "cell_type": "code",
      "metadata": {
        "id": "jKGSQwsJwTxR",
        "colab_type": "code",
        "colab": {
          "base_uri": "https://localhost:8080/",
          "height": 295
        },
        "outputId": "f7486d74-ebd0-49f7-e370-c9df8e7fb3b4"
      },
      "source": [
        "plt.scatter(x_vals, y_vals, label='Data Points')\n",
        "plt.plot(x_vals, best_fit, 'r-', label='Best fit line', linewidth=3)\n",
        "\n",
        "plt.legend(loc='upper left')\n",
        "plt.title('Sepal Length vs Pedal Width')\n",
        "plt.xlabel('Pedal Width')\n",
        "plt.ylabel('Sepal Length')\n",
        "plt.show()"
      ],
      "execution_count": 24,
      "outputs": [
        {
          "output_type": "display_data",
          "data": {
            "image/png": "[encoded data removed]",
            "text/plain": [
              "<Figure size 432x288 with 1 Axes>"
            ]
          },
          "metadata": {
            "tags": [],
            "needs_background": "light"
          }
        }
      ]
    },
    {
      "cell_type": "code",
      "metadata": {
        "id": "35uEL9yRyML1",
        "colab_type": "code",
        "colab": {
          "base_uri": "https://localhost:8080/",
          "height": 295
        },
        "outputId": "6dde9545-3dd5-4a04-bf96-48adcb5c112b"
      },
      "source": [
        "plt.plot(loss_vec, 'k-')\n",
        "plt.title('L2 Loss per Generation')\n",
        "plt.xlabel('Generation')\n",
        "plt.ylabel('L2 Loss')\n",
        "plt.show()"
      ],
      "execution_count": 25,
      "outputs": [
        {
          "output_type": "display_data",
          "data": {
            "image/png": "[encoded data removed]",
            "text/plain": [
              "<Figure size 432x288 with 1 Axes>"
            ]
          },
          "metadata": {
            "tags": [],
            "needs_background": "light"
          }
        }
      ]
    },
    {
      "cell_type": "markdown",
      "metadata": {
        "id": "GK5zh0BfymCF",
        "colab_type": "text"
      },
      "source": [
        "# **Understanding Loss Functions in Linear Regression**"
      ]
    },
    {
      "cell_type": "code",
      "metadata": {
        "id": "6tFGdKEw0156",
        "colab_type": "code",
        "colab": {}
      },
      "source": [
        "x_vals = np.array([x[3] for x in iris.data])\n",
        "y_vals = np.array([y[0] for y in iris.data])"
      ],
      "execution_count": 26,
      "outputs": []
    },
    {
      "cell_type": "code",
      "metadata": {
        "id": "0bDgV7_8wmyA",
        "colab_type": "code",
        "colab": {}
      },
      "source": [
        "batch_size = 25\n",
        "learning_rate = 0.03 \n",
        "\n",
        "x_data = tf.placeholder(shape=[None, 1], dtype=tf.float32)\n",
        "y_target = tf.placeholder(shape=[None, 1], dtype=tf.float32)\n",
        "\n",
        "A = tf.Variable(tf.random_normal(shape=[1,1]))\n",
        "b = tf.Variable(tf.random_normal(shape=[1,1]))\n",
        "\n",
        "model_output = tf.add(tf.matmul(x_data, A), b)"
      ],
      "execution_count": 27,
      "outputs": []
    },
    {
      "cell_type": "code",
      "metadata": {
        "id": "NgOr5gEpy496",
        "colab_type": "code",
        "colab": {}
      },
      "source": [
        "#L1 loss\n",
        "\n",
        "loss_l1 = tf.reduce_mean(tf.abs(y_target - model_output))\n",
        "\n",
        "my_opt_l1 = tf.train.GradientDescentOptimizer(learning_rate)\n",
        "train_step_l1 = my_opt_l1.minimize(loss_l1)\n",
        "\n",
        "#L2 loss\n",
        "\n",
        "loss_l2 = tf.reduce_mean(tf.square(y_target - model_output))\n",
        "\n",
        "my_opt_l2 = tf.train.GradientDescentOptimizer(learning_rate)\n",
        "train_step_l2 = my_opt_l2.minimize(loss_l2)"
      ],
      "execution_count": 28,
      "outputs": []
    },
    {
      "cell_type": "code",
      "metadata": {
        "id": "rzUjlW83y8qG",
        "colab_type": "code",
        "colab": {}
      },
      "source": [
        "init = tf.global_variables_initializer()\n",
        "sess.run(init)"
      ],
      "execution_count": 29,
      "outputs": []
    },
    {
      "cell_type": "code",
      "metadata": {
        "id": "x0__DMLNzDIU",
        "colab_type": "code",
        "colab": {
          "base_uri": "https://localhost:8080/",
          "height": 84
        },
        "outputId": "3d22dae3-61d5-4238-c4a4-945b17ef2fa1"
      },
      "source": [
        "loss_vec_l1 = []\n",
        "for i in range(100):\n",
        "  rand_index = np.random.choice(len(x_vals), size=batch_size)\n",
        "\n",
        "  rand_x = np.transpose([x_vals[rand_index]])\n",
        "  rand_y = np.transpose([y_vals[rand_index]])\n",
        "\n",
        "  sess.run(train_step_l1, feed_dict={x_data: rand_x, y_target: rand_y})\n",
        "  \n",
        "  temp_loss_l1 = sess.run(loss_l1, feed_dict={x_data: rand_x, y_target: rand_y})\n",
        "  \n",
        "  loss_vec_l1.append(temp_loss_l1)\n",
        "  if (i+1)%25==0:\n",
        "    print('Step: ' + str(i+1) + ' A = ' + str(sess.run(A)[0][0]) + ' b = ' + str(sess.run(b)[0][0]) + '  loss: ' + str(temp_loss_l1) )"
      ],
      "execution_count": 30,
      "outputs": [
        {
          "output_type": "stream",
          "text": [
            "Step: 25 A = 3.0215688 b = 0.69855464  loss: 1.9559846\n",
            "Step: 50 A = 3.0906894 b = 1.0525547  loss: 1.8859426\n",
            "Step: 75 A = 3.0560095 b = 1.3417548  loss: 1.649975\n",
            "Step: 100 A = 2.98677 b = 1.6141552  loss: 1.5936447\n"
          ],
          "name": "stdout"
        }
      ]
    },
    {
      "cell_type": "code",
      "metadata": {
        "id": "m2TcYhxP0hv6",
        "colab_type": "code",
        "colab": {
          "base_uri": "https://localhost:8080/",
          "height": 84
        },
        "outputId": "1d33ce41-433d-47c6-e4a6-9eccda611890"
      },
      "source": [
        "loss_vec_l2 = []\n",
        "for i in range(100):\n",
        "  rand_index = np.random.choice(len(x_vals), size=batch_size)\n",
        "\n",
        "  rand_x = np.transpose([x_vals[rand_index]])\n",
        "  rand_y = np.transpose([y_vals[rand_index]])\n",
        "\n",
        "  sess.run(train_step_l2, feed_dict={x_data: rand_x, y_target: rand_y})\n",
        "  \n",
        "  temp_loss_l2 = sess.run(loss_l2, feed_dict={x_data: rand_x, y_target: rand_y})\n",
        "  \n",
        "  loss_vec_l2.append(temp_loss_l2)\n",
        "  if (i+1)%25==0:\n",
        "    print('Step: ' + str(i+1) + ' A = ' + str(sess.run(A)[0][0]) + ' b = ' + str(sess.run(b)[0][0]) + '  loss: ' + str(temp_loss_l2) )"
      ],
      "execution_count": 31,
      "outputs": [
        {
          "output_type": "stream",
          "text": [
            "Step: 25 A = 2.4127162 b = 2.4636996  loss: 1.3868998\n",
            "Step: 50 A = 1.9941363 b = 3.0794277  loss: 0.857091\n",
            "Step: 75 A = 1.6840262 b = 3.5299466  loss: 0.8198187\n",
            "Step: 100 A = 1.4850909 b = 3.8790114  loss: 0.42726898\n"
          ],
          "name": "stdout"
        }
      ]
    },
    {
      "cell_type": "code",
      "metadata": {
        "id": "Iztp7x3qzdWh",
        "colab_type": "code",
        "colab": {
          "base_uri": "https://localhost:8080/",
          "height": 295
        },
        "outputId": "84be4605-3c0a-491f-bc32-f3db8b289969"
      },
      "source": [
        "plt.plot(loss_vec_l1, 'k-', label='L1 Loss')\n",
        "plt.plot(loss_vec_l2, 'r--', label='L2 Loss')\n",
        "\n",
        "plt.title('L1 and L2 Loss per Generation')\n",
        "plt.xlabel('Generation')\n",
        "plt.ylabel('L1 Loss')\n",
        "plt.legend(loc='upper right')\n",
        "plt.show()"
      ],
      "execution_count": 32,
      "outputs": [
        {
          "output_type": "display_data",
          "data": {
            "image/png": "[encoded data removed]",
            "text/plain": [
              "<Figure size 432x288 with 1 Axes>"
            ]
          },
          "metadata": {
            "tags": [],
            "needs_background": "light"
          }
        }
      ]
    },
    {
      "cell_type": "markdown",
      "metadata": {
        "id": "3j4NOd2n1qop",
        "colab_type": "text"
      },
      "source": [
        "# **Implementing Deming regression**"
      ]
    },
    {
      "cell_type": "code",
      "metadata": {
        "id": "Q67qenotzpnQ",
        "colab_type": "code",
        "colab": {}
      },
      "source": [
        "x_vals = np.array([x[3] for x in iris.data])\n",
        "y_vals = np.array([y[0] for y in iris.data])\n",
        "\n",
        "learning_rate = 0.03\n",
        "batch_size = 50"
      ],
      "execution_count": 33,
      "outputs": []
    },
    {
      "cell_type": "code",
      "metadata": {
        "id": "4zncgT8Q16Z2",
        "colab_type": "code",
        "colab": {}
      },
      "source": [
        "x_data = tf.placeholder(shape=[None, 1], dtype=tf.float32)\n",
        "y_target = tf.placeholder(shape=[None, 1], dtype=tf.float32)\n",
        "\n",
        "A = tf.Variable(tf.random_normal(shape=[1,1]))\n",
        "b = tf.Variable(tf.random_normal(shape=[1,1]))\n",
        "\n",
        "model_output = tf.add(tf.matmul(x_data, A), b)"
      ],
      "execution_count": 34,
      "outputs": []
    },
    {
      "cell_type": "code",
      "metadata": {
        "id": "1O09PW03171_",
        "colab_type": "code",
        "colab": {}
      },
      "source": [
        "demming_numerator = tf.abs(tf.math.subtract(y_target, tf.add(tf.matmul(x_data, A), b)))\n",
        "\n",
        "demming_denominator = tf.sqrt(tf.add(tf.square(A),1))\n",
        "\n",
        "loss = tf.reduce_mean(tf.truediv(demming_numerator, demming_denominator))"
      ],
      "execution_count": 35,
      "outputs": []
    },
    {
      "cell_type": "code",
      "metadata": {
        "id": "OFvH8dWH2FwL",
        "colab_type": "code",
        "colab": {}
      },
      "source": [
        "my_opt = tf.train.GradientDescentOptimizer(learning_rate)\n",
        "\n",
        "train_step = my_opt.minimize(loss)"
      ],
      "execution_count": 36,
      "outputs": []
    },
    {
      "cell_type": "code",
      "metadata": {
        "id": "NAMiLhuc22-y",
        "colab_type": "code",
        "colab": {}
      },
      "source": [
        "init = tf.global_variables_initializer()\n",
        "sess.run(init)"
      ],
      "execution_count": 37,
      "outputs": []
    },
    {
      "cell_type": "code",
      "metadata": {
        "id": "tF0IuwNf26aS",
        "colab_type": "code",
        "colab": {
          "base_uri": "https://localhost:8080/",
          "height": 101
        },
        "outputId": "c5f63623-4b39-4b24-f9ad-e99ff97d6dec"
      },
      "source": [
        "loss_vec = []\n",
        "for i in range(250):\n",
        "  rand_index = np.random.choice(len(x_vals), size=batch_size)\n",
        "\n",
        "  rand_x = np.transpose([x_vals[rand_index]])\n",
        "  rand_y = np.transpose([y_vals[rand_index]])\n",
        "  \n",
        "  sess.run(train_step, feed_dict={x_data: rand_x, y_target: rand_y})\n",
        "\n",
        "  temp_loss = sess.run(loss, feed_dict={x_data: rand_x, y_target: rand_y})\n",
        "\n",
        "  loss_vec.append(temp_loss)\n",
        "  \n",
        "  if (i+1)%50==0:\n",
        "    print('Step:  ' + str(i+1) + ' A = ' + str(sess.run(A)[0][0]) + ' b = ' + str(sess.run(b)[0][0]) + '  Loss: ' + str(temp_loss))\n"
      ],
      "execution_count": 38,
      "outputs": [
        {
          "output_type": "stream",
          "text": [
            "Step:  50 A = 2.3930194 b = 1.810132  Loss: 0.58095145\n",
            "Step:  100 A = 2.6751254 b = 2.055131  Loss: 0.43233842\n",
            "Step:  150 A = 2.7497306 b = 2.1741545  Loss: 0.44993696\n",
            "Step:  200 A = 2.7314808 b = 2.2325501  Loss: 0.39344802\n",
            "Step:  250 A = 2.7046328 b = 2.2853622  Loss: 0.5223671\n"
          ],
          "name": "stdout"
        }
      ]
    },
    {
      "cell_type": "code",
      "metadata": {
        "id": "FxuBRRk53ei5",
        "colab_type": "code",
        "colab": {}
      },
      "source": [
        "slope = sess.run(A)[0]\n",
        "y_intercept = sess.run(b)[0]\n",
        "best_fit = []\n",
        "for i in x_vals:\n",
        "  best_fit.append(slope*i+y_intercept)"
      ],
      "execution_count": 39,
      "outputs": []
    },
    {
      "cell_type": "code",
      "metadata": {
        "id": "RgCY2b-13w83",
        "colab_type": "code",
        "colab": {
          "base_uri": "https://localhost:8080/",
          "height": 295
        },
        "outputId": "42632b0e-c65a-4073-dd33-bc812c0c4ea7"
      },
      "source": [
        "plt.scatter(x_vals, y_vals, label='Data Points')\n",
        "plt.plot(x_vals, best_fit, 'r-', label='Best fit line', linewidth=3)\n",
        "plt.legend(loc='upper left')\n",
        "plt.title('Sepal Length vs Pedal Width')\n",
        "plt.xlabel('Pedal Width')\n",
        "plt.ylabel('Sepal Length')\n",
        "plt.show()"
      ],
      "execution_count": 40,
      "outputs": [
        {
          "output_type": "display_data",
          "data": {
            "image/png": "[encoded data removed]",
            "text/plain": [
              "<Figure size 432x288 with 1 Axes>"
            ]
          },
          "metadata": {
            "tags": [],
            "needs_background": "light"
          }
        }
      ]
    },
    {
      "cell_type": "code",
      "metadata": {
        "id": "Fup8jHqN34XT",
        "colab_type": "code",
        "colab": {}
      },
      "source": [
        ""
      ],
      "execution_count": 40,
      "outputs": []
    }
  ]
}