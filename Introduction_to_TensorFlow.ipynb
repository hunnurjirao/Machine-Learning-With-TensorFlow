{
  "nbformat": 4,
  "nbformat_minor": 0,
  "metadata": {
    "colab": {
      "name": "Introduction to TensorFlow.ipynb",
      "provenance": [],
      "collapsed_sections": []
    },
    "kernelspec": {
      "name": "python3",
      "display_name": "Python 3"
    }
  },
  "cells": [
    {
      "cell_type": "markdown",
      "metadata": {
        "id": "pVmVP7UoC4_7",
        "colab_type": "text"
      },
      "source": [
        "<a href=\"https://colab.research.google.com/github/hunnurjirao/Machine Learning with TensorFlow/blob/master/Introduction to TensorFlow.ipynb\" target=\"_parent\"><img src=\"https://colab.research.google.com/assets/colab-badge.svg\" alt=\"Open In Colab\"/></a>"
      ]
    },
    {
      "cell_type": "markdown",
      "metadata": {
        "id": "IUHKbS1QvxEA",
        "colab_type": "text"
      },
      "source": [
        "# **Tensors**"
      ]
    },
    {
      "cell_type": "markdown",
      "metadata": {
        "id": "-hOQcPunv6vP",
        "colab_type": "text"
      },
      "source": [
        "### Importing necessary modules"
      ]
    },
    {
      "cell_type": "code",
      "metadata": {
        "id": "asiBccnGPvaR",
        "colab_type": "code",
        "colab": {
          "base_uri": "https://localhost:8080/",
          "height": 50
        },
        "outputId": "0bf6c904-f79a-4666-989a-06ad73209f9f"
      },
      "source": [
        "import numpy as np\n",
        "import tensorflow as tf\n",
        "print(tf.__version__)\n",
        "\n",
        "tf.executing_eagerly() # Make sure that GPU is off to enable eager execution"
      ],
      "execution_count": 1,
      "outputs": [
        {
          "output_type": "stream",
          "text": [
            "2.2.0\n"
          ],
          "name": "stdout"
        },
        {
          "output_type": "execute_result",
          "data": {
            "text/plain": [
              "True"
            ]
          },
          "metadata": {
            "tags": []
          },
          "execution_count": 1
        }
      ]
    },
    {
      "cell_type": "markdown",
      "metadata": {
        "id": "ZxYcDZJmyBqP",
        "colab_type": "text"
      },
      "source": [
        "### Fixed Tensors"
      ]
    },
    {
      "cell_type": "code",
      "metadata": {
        "id": "t8s-lfC61jUX",
        "colab_type": "code",
        "colab": {
          "base_uri": "https://localhost:8080/",
          "height": 67
        },
        "outputId": "178d60c9-64f0-4504-a8a2-b0f68fe72839"
      },
      "source": [
        "num_rows = 2\n",
        "num_cols = 3\n",
        "\n",
        "zero_tensor = tf.zeros([num_rows,num_cols])\n",
        "print(\"Zero tensor: \" , zero_tensor)"
      ],
      "execution_count": 2,
      "outputs": [
        {
          "output_type": "stream",
          "text": [
            "Zero tensor:  tf.Tensor(\n",
            "[[0. 0. 0.]\n",
            " [0. 0. 0.]], shape=(2, 3), dtype=float32)\n"
          ],
          "name": "stdout"
        }
      ]
    },
    {
      "cell_type": "code",
      "metadata": {
        "id": "zszAfxsq3r-G",
        "colab_type": "code",
        "colab": {
          "base_uri": "https://localhost:8080/",
          "height": 67
        },
        "outputId": "5cb2966a-a1b1-483c-c67c-0de419306ed0"
      },
      "source": [
        "ones_tensor = tf.ones([num_rows,num_cols])\n",
        "print(\"Ones tensor: \", ones_tensor)"
      ],
      "execution_count": 3,
      "outputs": [
        {
          "output_type": "stream",
          "text": [
            "Ones tensor:  tf.Tensor(\n",
            "[[1. 1. 1.]\n",
            " [1. 1. 1.]], shape=(2, 3), dtype=float32)\n"
          ],
          "name": "stdout"
        }
      ]
    },
    {
      "cell_type": "code",
      "metadata": {
        "id": "c1cA-sQr6SUv",
        "colab_type": "code",
        "colab": {
          "base_uri": "https://localhost:8080/",
          "height": 67
        },
        "outputId": "638e474f-d593-42cf-e951-1bbe42594ae3"
      },
      "source": [
        "filled_tensor = tf.fill([num_rows,num_cols] , 6)\n",
        "print(\"Filled tensor: \", filled_tensor)"
      ],
      "execution_count": 4,
      "outputs": [
        {
          "output_type": "stream",
          "text": [
            "Filled tensor:  tf.Tensor(\n",
            "[[6 6 6]\n",
            " [6 6 6]], shape=(2, 3), dtype=int32)\n"
          ],
          "name": "stdout"
        }
      ]
    },
    {
      "cell_type": "code",
      "metadata": {
        "id": "BylwTi5E6UEk",
        "colab_type": "code",
        "colab": {
          "base_uri": "https://localhost:8080/",
          "height": 34
        },
        "outputId": "b622c4f4-630c-4398-8eb5-2505f7bdbaa0"
      },
      "source": [
        "const_tensor = tf.constant([1,2,3])\n",
        "print(\"Constant tensor: \", const_tensor)"
      ],
      "execution_count": 5,
      "outputs": [
        {
          "output_type": "stream",
          "text": [
            "Constant tensor:  tf.Tensor([1 2 3], shape=(3,), dtype=int32)\n"
          ],
          "name": "stdout"
        }
      ]
    },
    {
      "cell_type": "markdown",
      "metadata": {
        "id": "aFbI27_d6hm3",
        "colab_type": "text"
      },
      "source": [
        "### Tensors of similar shape"
      ]
    },
    {
      "cell_type": "code",
      "metadata": {
        "id": "EPP5HiaR6WHm",
        "colab_type": "code",
        "colab": {
          "base_uri": "https://localhost:8080/",
          "height": 34
        },
        "outputId": "c2291b96-fc29-4533-aba4-39aabcaa0e7d"
      },
      "source": [
        "zeros_similar = tf.zeros_like(const_tensor)\n",
        "print(zeros_similar)\n"
      ],
      "execution_count": 6,
      "outputs": [
        {
          "output_type": "stream",
          "text": [
            "tf.Tensor([0 0 0], shape=(3,), dtype=int32)\n"
          ],
          "name": "stdout"
        }
      ]
    },
    {
      "cell_type": "code",
      "metadata": {
        "id": "eoX992qq6nf_",
        "colab_type": "code",
        "colab": {
          "base_uri": "https://localhost:8080/",
          "height": 34
        },
        "outputId": "9f2676d8-8c2b-42db-d7b4-bcc8b93543e0"
      },
      "source": [
        "ones_similar = tf.ones_like(const_tensor)\n",
        "print(ones_similar)"
      ],
      "execution_count": 7,
      "outputs": [
        {
          "output_type": "stream",
          "text": [
            "tf.Tensor([1 1 1], shape=(3,), dtype=int32)\n"
          ],
          "name": "stdout"
        }
      ]
    },
    {
      "cell_type": "markdown",
      "metadata": {
        "id": "qo3ehm6V68wt",
        "colab_type": "text"
      },
      "source": [
        "### Sequence Tensors"
      ]
    },
    {
      "cell_type": "code",
      "metadata": {
        "id": "Pn16YBnp6ufd",
        "colab_type": "code",
        "colab": {
          "base_uri": "https://localhost:8080/",
          "height": 34
        },
        "outputId": "a7549220-9110-4977-b126-bfc53fbd0d2d"
      },
      "source": [
        "lin_tensor = tf.linspace(start=0.0, stop=1.0,num=3)\n",
        "print(lin_tensor)"
      ],
      "execution_count": 8,
      "outputs": [
        {
          "output_type": "stream",
          "text": [
            "tf.Tensor([0.  0.5 1. ], shape=(3,), dtype=float32)\n"
          ],
          "name": "stdout"
        }
      ]
    },
    {
      "cell_type": "code",
      "metadata": {
        "id": "srssqCxa7G9q",
        "colab_type": "code",
        "colab": {
          "base_uri": "https://localhost:8080/",
          "height": 34
        },
        "outputId": "a5ac35b9-d6fc-4359-c054-6cfa938daac7"
      },
      "source": [
        "lin_seq_tensor = tf.range(start=3, limit=20, delta=5)\n",
        "print(lin_seq_tensor)"
      ],
      "execution_count": 9,
      "outputs": [
        {
          "output_type": "stream",
          "text": [
            "tf.Tensor([ 3  8 13 18], shape=(4,), dtype=int32)\n"
          ],
          "name": "stdout"
        }
      ]
    },
    {
      "cell_type": "markdown",
      "metadata": {
        "id": "eywZrOYc7lfW",
        "colab_type": "text"
      },
      "source": [
        "### Random Tensors"
      ]
    },
    {
      "cell_type": "code",
      "metadata": {
        "id": "flk65sL17OKg",
        "colab_type": "code",
        "colab": {
          "base_uri": "https://localhost:8080/",
          "height": 34
        },
        "outputId": "f992b811-39b8-4385-c98b-32e4b213cf88"
      },
      "source": [
        "Rand_tensor = tf.random_uniform_initializer(minval=0, maxval=1)\n",
        "print(Rand_tensor)"
      ],
      "execution_count": 10,
      "outputs": [
        {
          "output_type": "stream",
          "text": [
            "<tensorflow.python.ops.init_ops_v2.RandomUniform object at 0x7f0ca8f15f60>\n"
          ],
          "name": "stdout"
        }
      ]
    },
    {
      "cell_type": "markdown",
      "metadata": {
        "id": "JEIhzHeS7xZ-",
        "colab_type": "text"
      },
      "source": [
        "# **Placeholders and Variables**"
      ]
    },
    {
      "cell_type": "markdown",
      "metadata": {
        "id": "6SA3Prdj76Hg",
        "colab_type": "text"
      },
      "source": [
        "### Declaring and Initializing Variables:"
      ]
    },
    {
      "cell_type": "code",
      "metadata": {
        "id": "JS_bxWaX7rN8",
        "colab_type": "code",
        "colab": {
          "base_uri": "https://localhost:8080/",
          "height": 87
        },
        "outputId": "83a453ef-0714-43f7-ff6b-c086de0db49d"
      },
      "source": [
        "import tensorflow.compat.v1 as tf\n",
        "tf.disable_v2_behavior()\n",
        "tf.executing_eagerly()\n",
        "\n",
        "sess = tf.Session()\n",
        "x =tf.Variable(tf.zeros( [2,3]))\n",
        "initializer = tf.global_variables_initializer ()\n",
        "sess.run(initializer) "
      ],
      "execution_count": 11,
      "outputs": [
        {
          "output_type": "stream",
          "text": [
            "WARNING:tensorflow:From /usr/local/lib/python3.6/dist-packages/tensorflow/python/compat/v2_compat.py:96: disable_resource_variables (from tensorflow.python.ops.variable_scope) is deprecated and will be removed in a future version.\n",
            "Instructions for updating:\n",
            "non-resource variables are not supported in the long term\n"
          ],
          "name": "stdout"
        }
      ]
    },
    {
      "cell_type": "markdown",
      "metadata": {
        "id": "Gup-oEVN99xB",
        "colab_type": "text"
      },
      "source": [
        "### Declaring and Initializing Placeholders:"
      ]
    },
    {
      "cell_type": "code",
      "metadata": {
        "id": "YLnHB9mW9E7d",
        "colab_type": "code",
        "colab": {
          "base_uri": "https://localhost:8080/",
          "height": 50
        },
        "outputId": "9c6941e5-2a9b-472b-cf22-5626eacfe59d"
      },
      "source": [
        "x = tf.placeholder(tf.float32, shape=[2,2])\n",
        "y = tf.identity(x)\n",
        "x_input = np.ones((2,2))\n",
        "sess = tf.Session()\n",
        "sess.run(y, feed_dict = {x : x_input}) "
      ],
      "execution_count": 12,
      "outputs": [
        {
          "output_type": "execute_result",
          "data": {
            "text/plain": [
              "array([[1., 1.],\n",
              "       [1., 1.]], dtype=float32)"
            ]
          },
          "metadata": {
            "tags": []
          },
          "execution_count": 12
        }
      ]
    },
    {
      "cell_type": "markdown",
      "metadata": {
        "id": "MlWoa7vz-J2R",
        "colab_type": "text"
      },
      "source": [
        "# **Working with Matrices**"
      ]
    },
    {
      "cell_type": "code",
      "metadata": {
        "id": "ftICFhhj9ucJ",
        "colab_type": "code",
        "colab": {
          "base_uri": "https://localhost:8080/",
          "height": 67
        },
        "outputId": "91b5471c-0518-43e0-d0e5-93ec1db120b1"
      },
      "source": [
        "identity_matrix = tf.diag([1.0, 1.0, 1.0])\n",
        "A = tf.truncated_normal([2,3])\n",
        "B =tf.fill([2,3],6.0)\n",
        "D = tf.convert_to_tensor(np.array([[1,2,3],[3,5,6]]))\n",
        "\n",
        "print(\"Identity matrix: \", sess.run(identity_matrix))"
      ],
      "execution_count": 13,
      "outputs": [
        {
          "output_type": "stream",
          "text": [
            "Identity matrix:  [[1. 0. 0.]\n",
            " [0. 1. 0.]\n",
            " [0. 0. 1.]]\n"
          ],
          "name": "stdout"
        }
      ]
    },
    {
      "cell_type": "code",
      "metadata": {
        "id": "O3XIoCK--ShS",
        "colab_type": "code",
        "colab": {
          "base_uri": "https://localhost:8080/",
          "height": 118
        },
        "outputId": "fbae3b86-e8c4-49b7-d360-4831ded86c66"
      },
      "source": [
        "print(\"A: \", sess.run(A))\n",
        "print(\"B: \", sess.run(B))\n",
        "print(\"D: \", sess.run(D))"
      ],
      "execution_count": 14,
      "outputs": [
        {
          "output_type": "stream",
          "text": [
            "A:  [[-0.27263048  0.99282235  0.7273219 ]\n",
            " [ 0.77289045  0.2679514   0.9819005 ]]\n",
            "B:  [[6. 6. 6.]\n",
            " [6. 6. 6.]]\n",
            "D:  [[1 2 3]\n",
            " [3 5 6]]\n"
          ],
          "name": "stdout"
        }
      ]
    },
    {
      "cell_type": "code",
      "metadata": {
        "id": "I4J9mhvT-ZZz",
        "colab_type": "code",
        "colab": {
          "base_uri": "https://localhost:8080/",
          "height": 84
        },
        "outputId": "b5047196-3197-48c5-b304-6f8303bcd567"
      },
      "source": [
        "print(\"Addition: \", sess.run(A + B))\n",
        "\n",
        "print(\"Subtraction: \", sess.run(A - B))"
      ],
      "execution_count": 15,
      "outputs": [
        {
          "output_type": "stream",
          "text": [
            "Addition:  [[6.3611197 5.5672097 6.027267 ]\n",
            " [5.5896864 6.329804  5.7682514]]\n",
            "Subtraction:  [[-5.061139  -6.289337  -5.6101465]\n",
            " [-7.132176  -4.6845818 -5.031337 ]]\n"
          ],
          "name": "stdout"
        }
      ]
    },
    {
      "cell_type": "code",
      "metadata": {
        "id": "loErL__--wwq",
        "colab_type": "code",
        "colab": {
          "base_uri": "https://localhost:8080/",
          "height": 84
        },
        "outputId": "824dd4b1-6f05-40d9-da6e-e0c455f78a73"
      },
      "source": [
        "P = tf.constant([[1,2,3]])\n",
        "Q = tf.constant([[1],[2],[3]])\n",
        "print(\"Multiplication: \", sess.run(tf.matmul(P,Q))) \n",
        "\n",
        "print(\"transpose: \", sess.run(tf.transpose(P)))"
      ],
      "execution_count": 16,
      "outputs": [
        {
          "output_type": "stream",
          "text": [
            "Multiplication:  [[14]]\n",
            "transpose:  [[1]\n",
            " [2]\n",
            " [3]]\n"
          ],
          "name": "stdout"
        }
      ]
    },
    {
      "cell_type": "markdown",
      "metadata": {
        "id": "nZkK-xQHAEq-",
        "colab_type": "text"
      },
      "source": [
        "# **Other Operations…**"
      ]
    },
    {
      "cell_type": "code",
      "metadata": {
        "id": "Uvh6lAgx_iD4",
        "colab_type": "code",
        "colab": {
          "base_uri": "https://localhost:8080/",
          "height": 134
        },
        "outputId": "f052e5de-8443-4ea4-bbd0-4ebd33a85e54"
      },
      "source": [
        "print(\"Div: \", sess.run(tf.div(3,4)))\n",
        "\n",
        "print(\"True div: \", sess.run(tf.truediv(3,4)))\n",
        "\n",
        "print(\"Floor div: \", sess.run(tf.floordiv(3.0,4.0)))\n",
        "\n",
        "print(\"mod: \", sess.run(tf.mod(22.0,5.0)))"
      ],
      "execution_count": 17,
      "outputs": [
        {
          "output_type": "stream",
          "text": [
            "WARNING:tensorflow:From <ipython-input-17-0ce2eec379c2>:1: div (from tensorflow.python.ops.math_ops) is deprecated and will be removed in a future version.\n",
            "Instructions for updating:\n",
            "Deprecated in favor of operator or tf.math.divide.\n",
            "Div:  0\n",
            "True div:  0.75\n",
            "Floor div:  0.0\n",
            "mod:  2.0\n"
          ],
          "name": "stdout"
        }
      ]
    }
  ]
}